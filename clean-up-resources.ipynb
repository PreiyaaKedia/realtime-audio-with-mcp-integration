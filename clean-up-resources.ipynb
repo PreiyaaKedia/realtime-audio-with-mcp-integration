{
 "cells": [
  {
   "cell_type": "markdown",
   "id": "a9d4d481",
   "metadata": {},
   "source": [
    "## Clean Up Resources\n",
    "\n",
    "When you are finished with the lab, you should remove all your deployed resources from Azure to avoid extra charges"
   ]
  },
  {
   "cell_type": "code",
   "execution_count": 3,
   "id": "04431214",
   "metadata": {},
   "outputs": [
    {
     "name": "stdout",
     "output_type": "stream",
     "text": [
      "👉🏽 \u001b[1;34m🧹 Cleaning up resource group 'rg-realtime-mcp-demo'...\u001b[0m\n",
      "⚙️ \u001b[1;34mRunning: az deployment group show --name realtime-audio-with-mcp-integration -g rg-realtime-mcp-demo -o json \u001b[0m\n",
      "✅ \u001b[1;32mDeployment retrieved\u001b[0m ⌚ 14:29:46.258771 [0m:3s]\n",
      "👉🏽 \u001b[1;34mDeployment provisioning state: Failed\u001b[0m\n",
      "⚙️ \u001b[1;34mRunning:  az cognitiveservices account list -g rg-realtime-mcp-demo \u001b[0m\n",
      "✅ \u001b[1;32mListed CognitiveService accounts\u001b[0m ⌚ 14:29:49.558630 [0m:3s]\n",
      "👉🏽 \u001b[1;34mDeleting and purging Cognitive Service Account 'azure-openai-sc-priya-dy7dbipcowwgk' in resource group 'rg-realtime-mcp-demo'...\u001b[0m\n",
      "⚙️ \u001b[1;34mRunning: az cognitiveservices account delete -g rg-realtime-mcp-demo -n azure-openai-sc-priya-dy7dbipcowwgk \u001b[0m\n",
      "✅ \u001b[1;32mCognitive Services 'azure-openai-sc-priya-dy7dbipcowwgk' deleted\u001b[0m ⌚ 14:29:57.800310 [0m:8s]\n",
      "⚙️ \u001b[1;34mRunning: az cognitiveservices account purge -g rg-realtime-mcp-demo -n azure-openai-sc-priya-dy7dbipcowwgk -l \"eastus2\" \u001b[0m\n",
      "✅ \u001b[1;32mCognitive Services 'azure-openai-sc-priya-dy7dbipcowwgk' purged\u001b[0m ⌚ 14:30:02.598580 [0m:4s]\n",
      "⚙️ \u001b[1;34mRunning:  az apim list -g rg-realtime-mcp-demo \u001b[0m\n",
      "✅ \u001b[1;32mListed APIM resources\u001b[0m ⌚ 14:30:06.216226 [0m:3s]\n",
      "👉🏽 \u001b[1;34mDeleting and purging API Management 'apim-dy7dbipcowwgk' in resource group 'rg-realtime-mcp-demo'...\u001b[0m\n",
      "⚙️ \u001b[1;34mRunning: az apim delete -n apim-dy7dbipcowwgk -g rg-realtime-mcp-demo -y \u001b[0m\n",
      "✅ \u001b[1;32mAPI Management 'apim-dy7dbipcowwgk' deleted\u001b[0m ⌚ 14:31:15.911333 [1m:9s]\n",
      "⚙️ \u001b[1;34mRunning: az apim deletedservice purge --service-name apim-dy7dbipcowwgk --location \"East US 2\" \u001b[0m\n",
      "✅ \u001b[1;32mAPI Management 'apim-dy7dbipcowwgk' purged\u001b[0m ⌚ 14:32:47.815240 [1m:31s]\n",
      "⚙️ \u001b[1;34mRunning:  az keyvault list -g rg-realtime-mcp-demo \u001b[0m\n",
      "✅ \u001b[1;32mListed Key Vault resources\u001b[0m ⌚ 14:32:52.526294 [0m:4s]\n",
      "👉🏽 \u001b[1;32m🧹 Deleting resource group 'rg-realtime-mcp-demo'...\u001b[0m ⌚ 14:32:52.526294 \n",
      "⚙️ \u001b[1;34mRunning: az group delete --name rg-realtime-mcp-demo -y \u001b[0m\n",
      "✅ \u001b[1;32mResource group 'rg-realtime-mcp-demo' deleted\u001b[0m ⌚ 14:42:05.864598 [9m:13s]\n",
      "👉🏽 \u001b[1;32m🧹 Cleanup completed.\u001b[0m ⌚ 14:42:05.864598 \n"
     ]
    }
   ],
   "source": [
    "import os, sys\n",
    "sys.path.insert(1, './shared')  # add the shared directory to the Python path\n",
    "import utils\n",
    "\n",
    "deployment_name = os.path.basename(os.path.dirname(globals()['__vsc_ipynb_file__']))\n",
    "utils.cleanup_resources(deployment_name, resource_group_name=\"rg-realtime-mcp-demo\")"
   ]
  }
 ],
 "metadata": {
  "kernelspec": {
   "display_name": ".venv",
   "language": "python",
   "name": "python3"
  },
  "language_info": {
   "codemirror_mode": {
    "name": "ipython",
    "version": 3
   },
   "file_extension": ".py",
   "mimetype": "text/x-python",
   "name": "python",
   "nbconvert_exporter": "python",
   "pygments_lexer": "ipython3",
   "version": "3.12.3"
  }
 },
 "nbformat": 4,
 "nbformat_minor": 5
}
